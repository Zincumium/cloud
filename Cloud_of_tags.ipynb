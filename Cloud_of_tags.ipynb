{
 "cells": [
  {
   "cell_type": "code",
   "execution_count": null,
   "id": "ac49bbb1",
   "metadata": {},
   "outputs": [],
   "source": [
    "f = open('D:/text.txt', \"r\", encoding=\"utf-8\")\n",
    "text = f.read()\n",
    "len(text)\n",
    "text[:500]\n",
    "text = text.lower()\n",
    "import string\n",
    "print(string.punctuation)\n",
    "symbols = string.punctuation + '/|\\.,()-_=+%<>'\n",
    "def delete_symbols(text, symbols):\n",
    "    return \"\".join([ch for ch in text if ch not in symbols])\n",
    "text = delete_symbols(text, symbols)\n",
    "text = delete_symbols(text, string.digits)\n",
    "import nltk\n",
    "from nltk import word_tokenize \n",
    "text_token = word_tokenize(text)\n",
    "len(text_token)\n",
    "text_token[:10]\n",
    "text = nltk.Text(text_token)\n",
    "print(type(text))\n",
    "text[:10]\n",
    "from nltk.probability import FreqDist\n",
    "fdist = FreqDist(text)\n",
    "fdist.most_common(5)\n",
    "fdist.plot(30,cumulative=False)\n",
    "from nltk.corpus import stopwords\n",
    "russian_stopwords = stopwords.words(\"russian\")\n",
    "print(len(russian_stopwords))\n",
    "from wordcloud import WordCloud\n",
    "import matplotlib.pyplot as plt\n",
    "text_raw = \" \".join(text)\n",
    "wcloud = WordCloud().generate(text_raw)\n",
    "plt.imshow(wcloud)\n",
    "plt.axis('off')\n",
    "plt.show()\n",
    "wcloud.to_file('test.jpg')"
   ]
  }
 ],
 "metadata": {
  "kernelspec": {
   "display_name": "Python 3 (ipykernel)",
   "language": "python",
   "name": "python3"
  },
  "language_info": {
   "codemirror_mode": {
    "name": "ipython",
    "version": 3
   },
   "file_extension": ".py",
   "mimetype": "text/x-python",
   "name": "python",
   "nbconvert_exporter": "python",
   "pygments_lexer": "ipython3",
   "version": "3.7.8"
  }
 },
 "nbformat": 4,
 "nbformat_minor": 5
}
